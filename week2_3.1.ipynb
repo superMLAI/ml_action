{
 "cells": [
  {
   "cell_type": "markdown",
   "metadata": {},
   "source": [
    "### Decision Tree"
   ]
  },
  {
   "cell_type": "raw",
   "metadata": {},
   "source": [
    "处理分类问题，最经常使用的数据挖掘算法。\n",
    "主要优势在于：数据形式非常容易理解。\n",
    "\n",
    "通过决策树可以理解数据中所蕴含的知识信息，从不熟悉的数据集合中提取出一系列规则，这些机器根据数据集创建规则的过程就是机器学习的过程。\n",
    "本章将构造能够读取数据集合的决策树算法，并构建决策树图。\n",
    "\n",
    "本章内容：如何从一堆原始数据中构造决策树\n",
    "    1.讨论构造决策树的方法\n",
    "    2.如何编写构造树的python代码\n",
    "    3.提出一些度量算法成功率的方法\n",
    "    4.使用递归建立分类器\n",
    "    5.使用matplotlib绘制决策树图\n",
    "    6.通过隐形眼镜的处方数据，由决策树分类器预测需要的镜片类型"
   ]
  },
  {
   "cell_type": "markdown",
   "metadata": {},
   "source": [
    "数学上如何使用信息论划分数据集"
   ]
  },
  {
   "cell_type": "raw",
   "metadata": {},
   "source": [
    "划分数据集的最大原则：将无序的数据变得更加有序。\n",
    "使用信息论度量信息，是组织杂乱无章数据的一种方法。而信息论，是量化处理信息的分支科学。可以在划分数据之前或之后使用信息论 量化 度量信息的内容。\n",
    "\n",
    "信息增益：划分数据集之前、划分数据集之后信息发生的变化，获得信息增益最高的特征就是最好的选择。\n",
    "\n",
    "信息增益的计算：集合信息的度量方式称为--香农熵,或简称--熵"
   ]
  },
  {
   "cell_type": "markdown",
   "metadata": {},
   "source": [
    "- 熵，为信息的期望值。而什么是信息？\n",
    "\n",
    "\n",
    "- 信息，如果待分类的事务可能划分在多个分类之中，则符号$x_i$的信息定义为：${\\color{red}{(放大信号,如下图)}}$\n",
    "$$l(x_i)=-\\log_2 p(x_i)$$   \n",
    "其中$p(x_i)$是选择该分类的概率。\n",
    "\n",
    "\n",
    "\n",
    "- 为了计算熵H，需要计算所有类别所有可能值包含的信息期望值：\n",
    "$$H=-\\sum_{i=1}^n\\ p(x_i)\\log_2 p(x_i)$$\n",
    "其中n是分类的数目。"
   ]
  },
  {
   "cell_type": "code",
   "execution_count": 2,
   "metadata": {},
   "outputs": [
    {
     "data": {
      "text/plain": [
       "(-1, 10)"
      ]
     },
     "execution_count": 2,
     "metadata": {},
     "output_type": "execute_result"
    },
    {
     "data": {
      "image/png": "[encoded data removed]",
      "text/plain": [
       "<Figure size 432x288 with 1 Axes>"
      ]
     },
     "metadata": {
      "needs_background": "light"
     },
     "output_type": "display_data"
    }
   ],
   "source": [
    "import matplotlib.pyplot as plt\n",
    "import numpy as np\n",
    "import math\n",
    "\n",
    "x=np.arange(0,1.2,0.001)\n",
    "y=[-math.log(i,2) for i in x[1:]]\n",
    "plt.plot(x[1:],y)\n",
    "plt.plot(np.arange(-0.1,2,0.001),[0]*len(np.arange(-0.1,2,0.001)))\n",
    "plt.plot([0]*len(np.arange(-0.1,10,0.001)),np.arange(-0.1,10,0.001))\n",
    "plt.xlim(-1,10)"
   ]
  },
  {
   "cell_type": "code",
   "execution_count": 3,
   "metadata": {},
   "outputs": [],
   "source": [
    "#计算信给定数据集的香农熵\n",
    "def calcShannonEnt(dataSet):\n",
    "    numEntries=len(dataSet)    #统计数据集中样本总数\n",
    "    labelCounts={}\n",
    "    for featVec in dataSet:    #逐行循环数据集\n",
    "        currentLabel=featVec[-1]   #每个样本即每行的最后一元素是该样本的类别标签，用作字典的键，统计出现频率\n",
    "        if currentLabel not in labelCounts.keys():   #如果当前循环的类别标签第一次出现，即初始化该键值对的值为0\n",
    "            labelCounts[currentLabel]=0\n",
    "        labelCounts[currentLabel]+=1     #每次将当前循环中列表标签的统计频数加1\n",
    "    shannonEnt=0   #最后返回的香农熵值初始化0，用于后面循环的累加操作\n",
    "    for key in labelCounts:    #循环所有类别标签\n",
    "        prob=labelCounts[key]/numEntries  #统计每个类别标签出现的概率\n",
    "        shannonEnt-=prob*math.log(prob,2) #根据公式通过累加操作计算香农熵\n",
    "    return shannonEnt"
   ]
  },
  {
   "cell_type": "code",
   "execution_count": 4,
   "metadata": {},
   "outputs": [],
   "source": [
    "#创建简单数据集\n",
    "def createDataSet():\n",
    "    dataSet=[[1,1,'yes'],[1,1,'yes'],[1,0,'no'],[0,1,'no'],[0,1,'no']]\n",
    "    labels=['no surfacing','flippers']\n",
    "    return dataSet,labels"
   ]
  },
  {
   "cell_type": "code",
   "execution_count": 5,
   "metadata": {},
   "outputs": [
    {
     "name": "stdout",
     "output_type": "stream",
     "text": [
      "[[1, 1, 'yes'], [1, 1, 'yes'], [1, 0, 'no'], [0, 1, 'no'], [0, 1, 'no']]\n",
      "0.9709505944546686\n"
     ]
    }
   ],
   "source": [
    "myDat,labels=createDataSet()\n",
    "print(myDat)\n",
    "print(calcShannonEnt(myDat))"
   ]
  },
  {
   "cell_type": "markdown",
   "metadata": {},
   "source": [
    "！！熵越高，则混合的数据也越多"
   ]
  },
  {
   "cell_type": "code",
   "execution_count": 6,
   "metadata": {},
   "outputs": [
    {
     "name": "stdout",
     "output_type": "stream",
     "text": [
      "[[1, 1, 'maybe'], [1, 1, 'yes'], [1, 0, 'no'], [0, 1, 'no'], [0, 1, 'no']]\n",
      "1.3709505944546687 <- 看...高了吧\n"
     ]
    }
   ],
   "source": [
    "#在数据集中添加更多的分类，观察熵的变化\n",
    "#增加第三个名为maybe的分类\n",
    "myDat[0][-1]='maybe'\n",
    "print(myDat)\n",
    "print(calcShannonEnt(myDat),'<- 看...高了吧')"
   ]
  },
  {
   "cell_type": "code",
   "execution_count": 7,
   "metadata": {},
   "outputs": [],
   "source": [
    "#按照给定特征划分数据集(抽取符合当前特征的当前取值的所有样本，返回列表已删除当前特征)\n",
    "def splitDataSet(dataSet,axis,value):\n",
    "    retDataSet=[]\n",
    "    for featVec in dataSet:\n",
    "        if featVec[axis]==value:\n",
    "            reducedFeatVec=featVec[:axis]    #生成重组列表，删除当前循环中的特征\n",
    "            reducedFeatVec.extend(featVec[axis+1:])    #添加参数列表的元素级别，可为操作列表的多元素添加\n",
    "            retDataSet.append(reducedFeatVec)    #添加参数列表的整体作为操作列表的一个元素\n",
    "    return retDataSet"
   ]
  },
  {
   "cell_type": "code",
   "execution_count": 8,
   "metadata": {},
   "outputs": [
    {
     "name": "stdout",
     "output_type": "stream",
     "text": [
      "[[1, 1, 'yes'], [1, 1, 'yes'], [1, 0, 'no'], [0, 1, 'no'], [0, 1, 'no']]\n",
      "[[1, 'yes'], [1, 'yes'], [0, 'no']]\n",
      "[[1, 'no'], [1, 'no']]\n"
     ]
    }
   ],
   "source": [
    "#在简单样本数据上测试划分数据集函数splitDataSet()\n",
    "myDat,labels=createDataSet()\n",
    "print(myDat)\n",
    "print(splitDataSet(myDat,0,1))\n",
    "print(splitDataSet(myDat,0,0))"
   ]
  },
  {
   "cell_type": "code",
   "execution_count": 9,
   "metadata": {},
   "outputs": [],
   "source": [
    "#便利整个数据集，循环计算香农熵和splitDataSet()函数，找到最好的特征划分方式。\n",
    "#熵计算将会告诉我们如何划分数据集是最好的数据组织方式\n",
    "def chooseBestFeatureToSplit(dataSet):\n",
    "    numFeatures=len(dataSet[0])-1   #特征属性数量\n",
    "    baseEntropy=calcShannonEnt(dataSet)\n",
    "    bestInfoGain=0\n",
    "    bestFeature=-1\n",
    "    for i in range(numFeatures):\n",
    "        featList=[example[i] for example in dataSet]  #dataSet是列表，所以要一个个元素级别循环取当前特征值\n",
    "        uniqueVals=set(featList)\n",
    "        newEntropy=0\n",
    "        for value in uniqueVals:\n",
    "            subDataSet=splitDataSet(dataSet,i,value)\n",
    "            prob=len(subDataSet)/len(dataSet)\n",
    "            newEntropy+=prob*calcShannonEnt(subDataSet)\n",
    "        infoGain=baseEntropy-newEntropy\n",
    "        if(infoGain>bestInfoGain):\n",
    "            bestInfoGain=infoGain\n",
    "            bestFeature=i\n",
    "    return bestFeature"
   ]
  },
  {
   "cell_type": "code",
   "execution_count": 10,
   "metadata": {},
   "outputs": [
    {
     "data": {
      "text/plain": [
       "0"
      ]
     },
     "execution_count": 10,
     "metadata": {},
     "output_type": "execute_result"
    }
   ],
   "source": [
    "#测试实际输出结果\n",
    "myDat,labels=createDataSet()\n",
    "chooseBestFeatureToSplit(myDat)"
   ]
  },
  {
   "cell_type": "code",
   "execution_count": 11,
   "metadata": {
    "scrolled": true
   },
   "outputs": [
    {
     "name": "stdout",
     "output_type": "stream",
     "text": [
      "0.9182958340544896 + 0.0 = 0.9182958340544896\n"
     ]
    }
   ],
   "source": [
    "print(calcShannonEnt(splitDataSet(myDat,0,1)),'+',calcShannonEnt(splitDataSet(myDat,0,0)),'=',calcShannonEnt(splitDataSet(myDat,0,1))+calcShannonEnt(splitDataSet(myDat,0,0)))"
   ]
  },
  {
   "cell_type": "code",
   "execution_count": 12,
   "metadata": {
    "scrolled": true
   },
   "outputs": [
    {
     "name": "stdout",
     "output_type": "stream",
     "text": [
      "1.0 + 0.0 = 1.0\n"
     ]
    }
   ],
   "source": [
    "print(calcShannonEnt(splitDataSet(myDat,1,1)),'+',calcShannonEnt(splitDataSet(myDat,1,0)),'=',calcShannonEnt(splitDataSet(myDat,1,1))+calcShannonEnt(splitDataSet(myDat,1,0)))"
   ]
  },
  {
   "cell_type": "markdown",
   "metadata": {},
   "source": [
    "工作原理：\n",
    "    \n",
    "    得到原始数据集，然后基于最好的属性值划分数据集，由于特征值可能多于两个，因此可能存在大于两个分支的数据集划分。第一次划分之后，数据将被向下传递到树分支的下一个节点，在这个节点上，可以再次划分数据。因此可以采用递归的原则处理数据集。\n",
    "    \n",
    "    递归结束的条件是：程序遍历完所有划分数据集的属性，或者每个分支下的所有实例都具有相同的分类。如果所有实例具有相同的分类，则得到一个叶子节点或者终止块。任何到达叶子节点的数据必然属于叶子节点的分类。"
   ]
  },
  {
   "cell_type": "code",
   "execution_count": 16,
   "metadata": {},
   "outputs": [],
   "source": [
    "import operator\n",
    "def majorityCnt(classList):\n",
    "    classCount={}\n",
    "    for vote in classList:\n",
    "        if vote not in classCount.keys():\n",
    "            classCount[vote]=0\n",
    "        classCount[vote]+=1\n",
    "    sortedClassCount=sorted(classCount.items(),key=operator.itimgetter(1),reverse=True)\n",
    "    return sortedClassCount[0][0]"
   ]
  },
  {
   "cell_type": "code",
   "execution_count": 45,
   "metadata": {},
   "outputs": [],
   "source": [
    "def createTree(dataSet,labels):      #输入参数：数据集和标签列表\n",
    "    classList=[example[-1] for example in dataSet]       #取数据集每行最后一元素，即各样本的类别标签\n",
    "    if classList.count(classList[0])==len(classList):    #如果按类计数结果=类别标签列表长度，即当前数据集全部属于同一类别\n",
    "        return classList[0]         #返回当前类别标签当做叶子节点\n",
    "    if len(dataSet[0])==1:          #当特征都用完的时候\n",
    "        return majorityCnt(classList)       #选出现次数最多的类别作为返回值\n",
    "    bestFeat=chooseBestFeatureToSplit(dataSet)   #选最优的划分特征的索引位\n",
    "    bestFeatLabel=labels[bestFeat]  #返回最佳标签\n",
    "    myTree={bestFeatLabel:{}}       #当前标签作为字典的键\n",
    "    del(labels[bestFeat])           #删除标签列表中的最佳划分特征\n",
    "    featValues=[example[bestFeat] for example in dataSet]   #取出当前最佳划分特征的所有取值\n",
    "    uniqueVals=set(featValues)      #当前最佳划分特征的取值去重\n",
    "    for value in uniqueVals:        #逐个循环\n",
    "        subLabels=labels[:]         #列表复制，不改变原列表\n",
    "        myTree[bestFeatLabel][value]=createTree(splitDataSet(dataSet,bestFeat,value),subLabels)   #决策树当前划分特征的值键=下个循环返回的结果\n",
    "    return myTree  #返回整个决策树"
   ]
  },
  {
   "cell_type": "code",
   "execution_count": 44,
   "metadata": {},
   "outputs": [
    {
     "data": {
      "text/plain": [
       "{'no surfacing': {0: 'no', 1: {'flippers': {0: 'no', 1: 'yes'}}}}"
      ]
     },
     "execution_count": 44,
     "metadata": {},
     "output_type": "execute_result"
    }
   ],
   "source": [
    "myDat,labels=createDataSet()\n",
    "createTree(myDat,labels)"
   ]
  },
  {
   "cell_type": "code",
   "execution_count": 46,
   "metadata": {},
   "outputs": [
    {
     "data": {
      "text/plain": [
       "{'no surfacing': {0: 'no', 1: {'flippers': {0: 'no', 1: 'yes'}}}}"
      ]
     },
     "execution_count": 46,
     "metadata": {},
     "output_type": "execute_result"
    }
   ],
   "source": [
    "#递归函数的labels 改sublabels，运行与不改并没有区别？？为什么\n",
    "myDat,labels=createDataSet()\n",
    "createTree(myDat,labels)"
   ]
  },
  {
   "cell_type": "markdown",
   "metadata": {},
   "source": [
    "绘制树形图 Matplotlib"
   ]
  },
  {
   "cell_type": "code",
   "execution_count": 137,
   "metadata": {},
   "outputs": [],
   "source": [
    "#注解 annotation\n",
    "import matplotlib.pyplot as plt\n",
    "decisionNode = dict(boxstyle=\"sawtooth\", fc=\"0.8\")\n",
    "leafNode = dict(boxstyle=\"round4\", fc=\"0.8\")\n",
    "arrow_args = dict(arrowstyle=\"<-\")\n",
    "\n",
    "def plotNode(nodeTxt,centerPt,parentPt,nodeType):\n",
    "    createPlot.ax1.annotate(nodeTxt,xy=parentPt,xycoords='axes fraction',xytext=centerPt,textcoords='axes fraction',\n",
    "                            va='center',ha='center',bbox=nodeType,arrowprops=arrow_args)   #bbox=nodeType不写这个，节点没有框框\n",
    "    \n",
    "def createPlot():\n",
    "    fig=plt.figure(1,facecolor='white')\n",
    "    fig.clf()\n",
    "    createPlot.ax1=plt.subplot(111,frameon=False)\n",
    "    plotNode(u'决策节点',(0.5,0.1),(0.1,0.5),decisionNode)\n",
    "    plotNode('叶节点',(0.8,0.1),(0.3,0.8),leafNode)\n",
    "    plt.show()"
   ]
  },
  {
   "cell_type": "code",
   "execution_count": 110,
   "metadata": {},
   "outputs": [],
   "source": [
    "plt.rcParams['font.sans-serif']=['SimHei'] #用来正常显示中文标签\n",
    "plt.rcParams['axes.unicode_minus']=False #用来正常显示负号\n",
    "#有中文出现的情况，需要u'内容'"
   ]
  },
  {
   "cell_type": "code",
   "execution_count": 138,
   "metadata": {},
   "outputs": [
    {
     "data": {
      "image/png": "[encoded data removed]",
      "text/plain": [
       "<Figure size 432x288 with 1 Axes>"
      ]
     },
     "metadata": {},
     "output_type": "display_data"
    }
   ],
   "source": [
    "createPlot()"
   ]
  },
  {
   "cell_type": "markdown",
   "metadata": {},
   "source": [
    "构造注解树\n",
    "\n",
    "虽然有x、y坐标，但是如何放置所有的树节点却是个问题。必须知道有多少个节点，以确定x轴的长度；还需要知道树有多少层，以确定y轴高度。\n",
    "\n",
    "这里定义两个新函数getNumLeafs()和getTreeDepth()，来获取叶节点的数目和树的层数。"
   ]
  },
  {
   "cell_type": "code",
   "execution_count": 165,
   "metadata": {},
   "outputs": [],
   "source": [
    "#获取叶节点的数目和树的层数\n",
    "def getNumLeafs(myTree):\n",
    "    numLeafs=0    #初始化叶子节点计数\n",
    "    firstStr=list(myTree.keys())[0]    #取当前树当前判断节点(字典)的键的第一个元素\n",
    "    secondDict=myTree[firstStr]  #得到这个键对应的值，即当前判断节点的各分支总体情况\n",
    "    for key in secondDict.keys(): #将各分支中的键逐个循环\n",
    "        if type(secondDict[key]).__name__=='dict':   #如果分支中有字典类型，即判断节点\n",
    "            numLeafs+=getNumLeafs(secondDict[key])   #进入该判断节点，递归查找该判断节点各分支节点的整体情况，直到遇见叶子节点计数加1后返回\n",
    "        else: numLeafs+=1    #遇到叶子节点计数累加1\n",
    "    return numLeafs    #返回叶子节点数\n",
    "\n",
    "def getTreeDepth(myTree):   \n",
    "    maxDepth=0    #初始化数的深度\n",
    "    firstStr=list(myTree.keys())[0]   #树当前判断节点（字典）的键的第一个元素\n",
    "    secondDict=myTree[firstStr] #得到当前判断节点的各分支总体情况\n",
    "    for key in secondDict.keys():  #将各分支中的键逐个循环\n",
    "        if type(secondDict[key]).__name__=='dict':  #如果是判断节点\n",
    "            thisDepth=1+getTreeDepth(secondDict[key])  #计数1+后面判断节点个数：通过递归找分支中还有没有判断节点，直到没有再遇见判断节点即返回\n",
    "        else: thisDepth=1\n",
    "        if thisDepth>maxDepth:maxDepth=thisDepth\n",
    "    return maxDepth    "
   ]
  },
  {
   "cell_type": "code",
   "execution_count": 143,
   "metadata": {},
   "outputs": [],
   "source": [
    "#输出预先存储的树信息\n",
    "def retrieveTree(i):\n",
    "    listOfTrees=[{'no surfacing':{0:'no',1:{'flippers':{0:'no',1:'yes'}}}},\n",
    "                {'no surfacing':{0:'no',1:{'flippers':{0:{'head':{0:'no',1:'yes'}},1:'no'}}}}]\n",
    "    return listOfTrees[i]"
   ]
  },
  {
   "cell_type": "code",
   "execution_count": 155,
   "metadata": {
    "scrolled": true
   },
   "outputs": [
    {
     "data": {
      "text/plain": [
       "{'no surfacing': {0: 'no',\n",
       "  1: {'flippers': {0: {'head': {0: 'no', 1: 'yes'}}, 1: 'no'}}}}"
      ]
     },
     "execution_count": 155,
     "metadata": {},
     "output_type": "execute_result"
    }
   ],
   "source": [
    "retrieveTree(1)"
   ]
  },
  {
   "cell_type": "code",
   "execution_count": 158,
   "metadata": {},
   "outputs": [
    {
     "data": {
      "text/plain": [
       "['no surfacing']"
      ]
     },
     "execution_count": 158,
     "metadata": {},
     "output_type": "execute_result"
    }
   ],
   "source": [
    "list(retrieveTree(1))"
   ]
  },
  {
   "cell_type": "code",
   "execution_count": 166,
   "metadata": {
    "scrolled": true
   },
   "outputs": [
    {
     "data": {
      "text/plain": [
       "3"
      ]
     },
     "execution_count": 166,
     "metadata": {},
     "output_type": "execute_result"
    }
   ],
   "source": [
    "myTree=retrieveTree(0)\n",
    "getNumLeafs(myTree)"
   ]
  },
  {
   "cell_type": "code",
   "execution_count": 164,
   "metadata": {},
   "outputs": [
    {
     "data": {
      "text/plain": [
       "2"
      ]
     },
     "execution_count": 164,
     "metadata": {},
     "output_type": "execute_result"
    }
   ],
   "source": [
    "getTreeDepth(myTree)"
   ]
  },
  {
   "cell_type": "code",
   "execution_count": 172,
   "metadata": {},
   "outputs": [],
   "source": [
    "#plotTree函数\n",
    "#更新之前的createPlot()的部分代码\n",
    "def plotMidText(cntrPt,parentPt,txtString):\n",
    "    xMid=(parentPt[0]-cntrPt[0])/2+cntrPt[0]\n",
    "    yMid=(parentPt[1]-cntrPt[1])/2+cntrPt[1]\n",
    "    createPlot.ax1.text(xMid,yMid,txtString)\n",
    "    \n",
    "def plotTree(myTree,parentPt,nodeTxt):      #调用了plotMidText()\n",
    "    numLeafs=getNumLeafs(myTree)            #\n",
    "    depth=getTreeDepth(myTree)\n",
    "    firstStr=list(myTree.keys())[0]\n",
    "    cntrPt=(plotTree.xOff+(1+numLeafs)/2/plotTree.totalW,plotTree.yOff)\n",
    "    plotMidText(cntrPt,parentPt,nodeTxt)\n",
    "    plotNode(firstStr,cntrPt,parentPt,decisionNode)\n",
    "    secondDict=myTree[firstStr]\n",
    "    plotTree.yOff=plotTree.yOff-1/plotTree.totalD\n",
    "    for key in secondDict.keys():\n",
    "        if type(secondDict[key]).__name__=='dict':\n",
    "            plotTree(secondDict[key],cntrPt,str(key))\n",
    "        else:\n",
    "            plotTree.xOff=plotTree.xOff+1/plotTree.totalW\n",
    "            plotNode(secondDict[key],(plotTree.xOff,plotTree.yOff),cntrPt,leafNode)\n",
    "            plotMidText((plotTree.xOff,plotTree.yOff),cntrPt,str(key))\n",
    "    plotTree.yOff=plotTree.yOff=1/plotTree.totalD\n",
    "    \n",
    "def createPlot(inTree):          #主函数，调用了plotTree()绘制图形的大部分工作\n",
    "    fig=plt.figure(1,facecolor='white')\n",
    "    fig.clf()\n",
    "    axprops=dict(xticks=[],yticks=[])\n",
    "    createPlot.ax1=plt.subplot(111,frameon=False,**axprops)\n",
    "    plotTree.totalW=getNumLeafs(inTree)\n",
    "    plotTree.totalD=getTreeDepth(inTree)\n",
    "    plotTree.xOff=-0.5/plotTree.totalW\n",
    "    plotTree.yOff=1\n",
    "    plotTree(inTree,(0.5,1),'')\n",
    "    plt.show()"
   ]
  },
  {
   "cell_type": "code",
   "execution_count": 173,
   "metadata": {},
   "outputs": [
    {
     "data": {
      "image/png": "[encoded data removed]",
      "text/plain": [
       "<Figure size 432x288 with 1 Axes>"
      ]
     },
     "metadata": {},
     "output_type": "display_data"
    }
   ],
   "source": [
    "createPlot(myTree)"
   ]
  },
  {
   "cell_type": "code",
   "execution_count": 174,
   "metadata": {},
   "outputs": [
    {
     "data": {
      "image/png": "[encoded data removed]",
      "text/plain": [
       "<Figure size 432x288 with 1 Axes>"
      ]
     },
     "metadata": {},
     "output_type": "display_data"
    }
   ],
   "source": [
    "createPlot(retrieveTree(1))"
   ]
  },
  {
   "cell_type": "code",
   "execution_count": 202,
   "metadata": {
    "scrolled": true
   },
   "outputs": [
    {
     "data": {
      "text/plain": [
       "'str'"
      ]
     },
     "execution_count": 202,
     "metadata": {},
     "output_type": "execute_result"
    },
    {
     "data": {
      "image/png": "[encoded data removed]",
      "text/plain": [
       "<Figure size 432x288 with 1 Axes>"
      ]
     },
     "metadata": {},
     "output_type": "display_data"
    }
   ],
   "source": [
    "fig=plt.figure(1,facecolor='white')\n",
    "fig.clf()\n",
    "axprops=dict(xticks=[],yticks=[])\n",
    "createPlot.ax1=plt.subplot(111,frameon=False,**axprops)\n",
    "plotTree.totalW=getNumLeafs(myTree)   #全局变量树宽度\n",
    "plotTree.totalD=getTreeDepth(myTree)  #全局变量树深度\n",
    "plotTree.xOff=-0.5/plotTree.totalW\n",
    "plotTree.yOff=1\n",
    "\n",
    "numLeafs=getNumLeafs(myTree)\n",
    "depth=getTreeDepth(myTree)\n",
    "firstStr=list(myTree.keys())[0]\n",
    "cntrPt=(plotTree.xOff+(1+numLeafs)/2/plotTree.totalW,plotTree.yOff)\n",
    "\n",
    "plotMidText(cntrPt,(0.5,1),'')\n",
    "plotNode(firstStr,cntrPt,(0.5,1),decisionNode)\n",
    "secondDict=myTree[firstStr]\n",
    "plotTree.yOff=plotTree.yOff-1/plotTree.totalD\n",
    "\n",
    "type(secondDict[0]).__name__"
   ]
  },
  {
   "cell_type": "code",
   "execution_count": 200,
   "metadata": {},
   "outputs": [
    {
     "data": {
      "text/plain": [
       "dict_keys([0, 1])"
      ]
     },
     "execution_count": 200,
     "metadata": {},
     "output_type": "execute_result"
    }
   ],
   "source": [
    "secondDict.keys()"
   ]
  },
  {
   "cell_type": "code",
   "execution_count": 199,
   "metadata": {},
   "outputs": [
    {
     "data": {
      "text/plain": [
       "0.5"
      ]
     },
     "execution_count": 199,
     "metadata": {},
     "output_type": "execute_result"
    }
   ],
   "source": [
    "plotTree.yOff"
   ]
  },
  {
   "cell_type": "code",
   "execution_count": 191,
   "metadata": {},
   "outputs": [
    {
     "data": {
      "text/plain": [
       "(0.5, 1)"
      ]
     },
     "execution_count": 191,
     "metadata": {},
     "output_type": "execute_result"
    }
   ],
   "source": [
    "cntrPt"
   ]
  },
  {
   "cell_type": "code",
   "execution_count": 189,
   "metadata": {},
   "outputs": [
    {
     "data": {
      "text/plain": [
       "'no surfacing'"
      ]
     },
     "execution_count": 189,
     "metadata": {},
     "output_type": "execute_result"
    }
   ],
   "source": [
    "firstStr"
   ]
  },
  {
   "cell_type": "code",
   "execution_count": 187,
   "metadata": {},
   "outputs": [
    {
     "data": {
      "text/plain": [
       "2"
      ]
     },
     "execution_count": 187,
     "metadata": {},
     "output_type": "execute_result"
    }
   ],
   "source": [
    "depth"
   ]
  },
  {
   "cell_type": "code",
   "execution_count": 186,
   "metadata": {},
   "outputs": [
    {
     "data": {
      "text/plain": [
       "3"
      ]
     },
     "execution_count": 186,
     "metadata": {},
     "output_type": "execute_result"
    }
   ],
   "source": [
    "numLeafs"
   ]
  },
  {
   "cell_type": "code",
   "execution_count": 179,
   "metadata": {},
   "outputs": [
    {
     "data": {
      "text/plain": [
       "3"
      ]
     },
     "execution_count": 179,
     "metadata": {},
     "output_type": "execute_result"
    }
   ],
   "source": [
    "plotTree.totalW"
   ]
  },
  {
   "cell_type": "code",
   "execution_count": 180,
   "metadata": {},
   "outputs": [
    {
     "data": {
      "text/plain": [
       "2"
      ]
     },
     "execution_count": 180,
     "metadata": {},
     "output_type": "execute_result"
    }
   ],
   "source": [
    "plotTree.totalD"
   ]
  },
  {
   "cell_type": "code",
   "execution_count": 182,
   "metadata": {},
   "outputs": [
    {
     "data": {
      "text/plain": [
       "-0.16666666666666666"
      ]
     },
     "execution_count": 182,
     "metadata": {},
     "output_type": "execute_result"
    }
   ],
   "source": [
    "#-1/6\n",
    "plotTree.xOff"
   ]
  },
  {
   "cell_type": "code",
   "execution_count": null,
   "metadata": {},
   "outputs": [],
   "source": [
    "plotTree.yOff=1"
   ]
  }
 ],
 "metadata": {
  "kernelspec": {
   "display_name": "Python 3",
   "language": "python",
   "name": "python3"
  },
  "language_info": {
   "codemirror_mode": {
    "name": "ipython",
    "version": 3
   },
   "file_extension": ".py",
   "mimetype": "text/x-python",
   "name": "python",
   "nbconvert_exporter": "python",
   "pygments_lexer": "ipython3",
   "version": "3.7.0"
  }
 },
 "nbformat": 4,
 "nbformat_minor": 2
}
