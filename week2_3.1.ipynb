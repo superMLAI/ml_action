{
 "cells": [
  {
   "cell_type": "markdown",
   "metadata": {},
   "source": [
    "### Decision Tree"
   ]
  },
  {
   "cell_type": "raw",
   "metadata": {},
   "source": [
    "处理分类问题，最经常使用的数据挖掘算法。\n",
    "主要优势在于：数据形式非常容易理解。\n",
    "\n",
    "通过决策树可以理解数据中所蕴含的知识信息，从不熟悉的数据集合中提取出一系列规则，这些机器根据数据集创建规则的过程就是机器学习的过程。\n",
    "本章将构造能够读取数据集合的决策树算法，并构建决策树图。\n",
    "\n",
    "本章内容：如何从一堆原始数据中构造决策树\n",
    "    1.讨论构造决策树的方法\n",
    "    2.如何编写构造树的python代码\n",
    "    3.提出一些度量算法成功率的方法\n",
    "    4.使用递归建立分类器\n",
    "    5.使用matplotlib绘制决策树图\n",
    "    6.通过隐形眼镜的处方数据，由决策树分类器预测需要的镜片类型"
   ]
  },
  {
   "cell_type": "markdown",
   "metadata": {},
   "source": [
    "数学上如何使用信息论划分数据集"
   ]
  },
  {
   "cell_type": "raw",
   "metadata": {},
   "source": [
    "划分数据集的最大原则：将无序的数据变得更加有序。\n",
    "使用信息论度量信息，是组织杂乱无章数据的一种方法。而信息论，是量化处理信息的分支科学。可以在划分数据之前或之后使用信息论 量化 度量信息的内容。\n",
    "\n",
    "信息增益：划分数据集之前、划分数据集之后信息发生的变化，获得信息增益最高的特征就是最好的选择。\n",
    "\n",
    "信息增益的计算：集合信息的度量方式称为--香农熵,或简称--熵"
   ]
  },
  {
   "cell_type": "markdown",
   "metadata": {},
   "source": [
    "- 熵，为信息的期望值。而什么是信息？\n",
    "\n",
    "\n",
    "- 信息，如果待分类的事务可能划分在多个分类之中，则符号$x_i$的信息定义为：${\\color{red}{(放大信号,如下图)}}$\n",
    "$$l(x_i)=-\\log_2 p(x_i)$$   \n",
    "其中$p(x_i)$是选择该分类的概率。\n",
    "\n",
    "\n",
    "\n",
    "- 为了计算熵H，需要计算所有类别所有可能值包含的信息期望值：\n",
    "$$H=-\\sum_{i=1}^n\\ p(x_i)\\log_2 p(x_i)$$\n",
    "其中n是分类的数目。"
   ]
  },
  {
   "cell_type": "code",
   "execution_count": 60,
   "metadata": {},
   "outputs": [
    {
     "data": {
      "text/plain": [
       "(-1, 10)"
      ]
     },
     "execution_count": 60,
     "metadata": {},
     "output_type": "execute_result"
    },
    {
     "data": {
      "image/png": "[encoded data removed]",
      "text/plain": [
       "<Figure size 432x288 with 1 Axes>"
      ]
     },
     "metadata": {
      "needs_background": "light"
     },
     "output_type": "display_data"
    }
   ],
   "source": [
    "import matplotlib.pyplot as plt\n",
    "import numpy as np\n",
    "import math\n",
    "\n",
    "x=np.arange(0,1.2,0.001)\n",
    "y=[-math.log(i,2) for i in x[1:]]\n",
    "plt.plot(x[1:],y)\n",
    "plt.plot(np.arange(-0.1,2,0.001),[0]*len(np.arange(-0.1,2,0.001)))\n",
    "plt.plot([0]*len(np.arange(-0.1,10,0.001)),np.arange(-0.1,10,0.001))\n",
    "plt.xlim(-1,10)"
   ]
  },
  {
   "cell_type": "code",
   "execution_count": 67,
   "metadata": {},
   "outputs": [],
   "source": [
    "#计算信给定数据集的香农熵\n",
    "def calcShannonEnt(dataSet):\n",
    "    numEntries=len(dataSet)    #统计数据集中样本总数\n",
    "    labelCounts={}\n",
    "    for featVec in dataSet:    #逐行循环数据集\n",
    "        currentLabel=featVec[-1]   #每个样本即每行的最后一元素是该样本的类别标签，用作字典的键，统计出现频率\n",
    "        if currentLabel not in labelCounts.keys():   #如果当前循环的类别标签第一次出现，即初始化该键值对的值为0\n",
    "            labelCounts[currentLabel]=0\n",
    "        labelCounts[currentLabel]+=1     #每次将当前循环中列表标签的统计频数加1\n",
    "    shannonEnt=0   #最后返回的香农熵值初始化0，用于后面循环的累加操作\n",
    "    for key in labelCounts:    #循环所有类别标签\n",
    "        prob=labelCounts[key]/numEntries  #统计每个类别标签出现的概率\n",
    "        shannonEnt-=prob*math.log(prob,2) #根据公式通过累加操作计算香农熵\n",
    "    return shannonEnt"
   ]
  },
  {
   "cell_type": "code",
   "execution_count": 62,
   "metadata": {},
   "outputs": [],
   "source": [
    "#创建简单数据集\n",
    "def createDataSet():\n",
    "    dataSet=[[1,1,'yes'],[1,1,'yes'],[1,0,'no'],[0,1,'no'],[0,1,'no']]\n",
    "    labels=['no surfacing','flippers']\n",
    "    return dataSet,labels"
   ]
  },
  {
   "cell_type": "code",
   "execution_count": 69,
   "metadata": {},
   "outputs": [
    {
     "name": "stdout",
     "output_type": "stream",
     "text": [
      "[[1, 1, 'yes'], [1, 1, 'yes'], [1, 0, 'no'], [0, 1, 'no'], [0, 1, 'no']]\n",
      "0.9709505944546686\n"
     ]
    }
   ],
   "source": [
    "myDat,labels=createDataSet()\n",
    "print(myDat)\n",
    "print(calcShannonEnt(myDat))"
   ]
  },
  {
   "cell_type": "markdown",
   "metadata": {},
   "source": [
    "！！熵越高，则混合的数据也越多"
   ]
  },
  {
   "cell_type": "code",
   "execution_count": 82,
   "metadata": {},
   "outputs": [
    {
     "name": "stdout",
     "output_type": "stream",
     "text": [
      "[[1, 1, 'maybe'], [1, 1, 'yes'], [1, 0, 'no'], [0, 1, 'no'], [0, 1, 'no']]\n",
      "1.3709505944546687 <- 看...高了吧\n"
     ]
    }
   ],
   "source": [
    "#在数据集中添加更多的分类，观察熵的变化\n",
    "#增加第三个名为maybe的分类\n",
    "myDat[0][-1]='maybe'\n",
    "print(myDat)\n",
    "print(calcShannonEnt(myDat),'<- 看...高了吧')"
   ]
  },
  {
   "cell_type": "code",
   "execution_count": 83,
   "metadata": {},
   "outputs": [],
   "source": [
    "#按照给定特征划分数据集(抽取符合当前特征的当前取值的所有样本，返回列表已删除当前特征)\n",
    "def splitDataSet(dataSet,axis,value):\n",
    "    retDataSet=[]\n",
    "    for featVec in dataSet:\n",
    "        if featVec[axis]==value:\n",
    "            reducedFeatVec=featVec[:axis]    #生成重组列表，删除当前循环中的特征\n",
    "            reducedFeatVec.extend(featVec[axis+1:])    #添加参数列表的元素级别，可为操作列表的多元素添加\n",
    "            retDataSet.append(reducedFeatVec)    #添加参数列表的整体作为操作列表的一个元素\n",
    "    return retDataSet"
   ]
  },
  {
   "cell_type": "code",
   "execution_count": 86,
   "metadata": {},
   "outputs": [
    {
     "name": "stdout",
     "output_type": "stream",
     "text": [
      "[[1, 1, 'yes'], [1, 1, 'yes'], [1, 0, 'no'], [0, 1, 'no'], [0, 1, 'no']]\n",
      "[[1, 'yes'], [1, 'yes'], [0, 'no']]\n",
      "[[1, 'no'], [1, 'no']]\n"
     ]
    }
   ],
   "source": [
    "#在简单样本数据上测试划分数据集函数splitDataSet()\n",
    "myDat,labels=createDataSet()\n",
    "print(myDat)\n",
    "print(splitDataSet(myDat,0,1))\n",
    "print(splitDataSet(myDat,0,0))"
   ]
  },
  {
   "cell_type": "code",
   "execution_count": 89,
   "metadata": {},
   "outputs": [],
   "source": [
    "#便利整个数据集，循环计算香农熵和splitDataSet()函数，找到最好的特征划分方式。\n",
    "#熵计算将会告诉我们如何划分数据集是最好的数据组织方式\n",
    "def chooseBestFeatureToSplit(dataSet):\n",
    "    numFeatures=len(dataSet[0])-1   #特征属性数量\n",
    "    baseEntropy=calcShannonEnt(dataSet)\n",
    "    bestInfoGain=0\n",
    "    bestFeature=-1\n",
    "    for i in range(numFeatures):\n",
    "        featList=[example[i] for example in dataSet]  #dataSet是列表，所以要一个个元素级别循环取当前特征值\n",
    "        uniqueVals=set(featList)\n",
    "        newEntropy=0\n",
    "        for value in uniqueVals:\n",
    "            subDataSet=splitDataSet(dataSet,i,value)\n",
    "            prob=len(subDataSet)/len(dataSet)\n",
    "            newEntropy+=prob*calcShannonEnt(subDataSet)\n",
    "        infoGain=baseEntropy-newEntropy\n",
    "        if(infoGain>bestInfoGain):\n",
    "            bestInfoGain=infoGain\n",
    "            bestFeature=i\n",
    "    return bestFeature"
   ]
  },
  {
   "cell_type": "code",
   "execution_count": 90,
   "metadata": {},
   "outputs": [
    {
     "data": {
      "text/plain": [
       "0"
      ]
     },
     "execution_count": 90,
     "metadata": {},
     "output_type": "execute_result"
    }
   ],
   "source": [
    "#测试实际输出结果\n",
    "myDat,labels=createDataSet()\n",
    "chooseBestFeatureToSplit(myDat)"
   ]
  },
  {
   "cell_type": "code",
   "execution_count": 96,
   "metadata": {
    "scrolled": true
   },
   "outputs": [
    {
     "name": "stdout",
     "output_type": "stream",
     "text": [
      "0.9182958340544896 + 0.0 = 0.9182958340544896\n"
     ]
    }
   ],
   "source": [
    "print(calcShannonEnt(splitDataSet(myDat,0,1)),'+',calcShannonEnt(splitDataSet(myDat,0,0)),'=',calcShannonEnt(splitDataSet(myDat,0,1))+calcShannonEnt(splitDataSet(myDat,0,0)))"
   ]
  },
  {
   "cell_type": "code",
   "execution_count": 97,
   "metadata": {
    "scrolled": true
   },
   "outputs": [
    {
     "name": "stdout",
     "output_type": "stream",
     "text": [
      "1.0 + 0.0 = 1.0\n"
     ]
    }
   ],
   "source": [
    "print(calcShannonEnt(splitDataSet(myDat,1,1)),'+',calcShannonEnt(splitDataSet(myDat,1,0)),'=',calcShannonEnt(splitDataSet(myDat,1,1))+calcShannonEnt(splitDataSet(myDat,1,0)))"
   ]
  }
 ],
 "metadata": {
  "kernelspec": {
   "display_name": "Python 3",
   "language": "python",
   "name": "python3"
  },
  "language_info": {
   "codemirror_mode": {
    "name": "ipython",
    "version": 3
   },
   "file_extension": ".py",
   "mimetype": "text/x-python",
   "name": "python",
   "nbconvert_exporter": "python",
   "pygments_lexer": "ipython3",
   "version": "3.7.0"
  }
 },
 "nbformat": 4,
 "nbformat_minor": 2
}
