{
 "cells": [
  {
   "cell_type": "markdown",
   "metadata": {},
   "source": [
    "* 阐述Logistic回归定义\n",
    "* 介绍一些最优化算法(梯度上升法、改进的随机梯度上升法，这些最优化算法将用于分类器的训练)\n",
    "* 给出一些Logistic回归的实例，预测病马是否能被治愈"
   ]
  },
  {
   "cell_type": "markdown",
   "metadata": {},
   "source": [
    "#### 5.1 基于Logistic回归和Sigmoid函数的分类"
   ]
  },
  {
   "cell_type": "markdown",
   "metadata": {},
   "source": [
    "能接受所有的输入，然后输出预测类别，例如两个类的情况下输出0或1。这种性质的函数称为海维赛德阶跃函数(Heaviside step function)，或者直接称为单位阶跃函数。\n",
    "\n",
    "问题：海维赛德阶跃函数在跳跃点上从0瞬间跳跃到1，这个瞬间跳跃过程有时很难处理。\n",
    "\n",
    "Sigmoid函数也是阶跃函数，而且在数学上更易处理。\n",
    "Sigmoid函数计算公式：\n",
    "$$\\sigma(z)=\\frac{1}{1+e^{-z}}$$"
   ]
  },
  {
   "cell_type": "markdown",
   "metadata": {},
   "source": [
    "Logistic回归分类器的实现：\n",
    "\n",
    "可以在每个特征上都乘以一个回归系数，然后把所有的结果值相加，将这个总和代入Sigmoid函数中，进而得到一个范围在0-1之间的数值。任何大于0.5的数据被分入1类，小于0.5即被归为0类。所以，Logistic也被看做是一种概率估计。"
   ]
  },
  {
   "cell_type": "markdown",
   "metadata": {},
   "source": [
    "#### 5.2 基于最优化方法的最佳回归系数确定 (即，最佳回归系数是多少？)"
   ]
  },
  {
   "cell_type": "markdown",
   "metadata": {},
   "source": [
    "Sigmoid函数的输入记为z，有下面公式得出：\n",
    "$$z=w_0x_0+w_1x_1+w_2x_2+...+w_nx_n$$\n",
    "\n",
    "上述公式，向量写法：$z=w^Tx$ (向量x是分类器的输入数据，向量w是要找的最佳参数，从而使分类器尽可能精确)"
   ]
  },
  {
   "cell_type": "markdown",
   "metadata": {},
   "source": [
    "* 梯度上升\n",
    "\n",
    "基于思想：要找到某函数的最大值，最好的方法是沿着该函数的梯度方向探寻。如果梯度记为$\\nabla$，则函数f(x,y)的梯度由下式表示：\n",
    "$$\\nabla f(x,y)= \\dbinom{\\frac{\\partial f(x,y)}{\\partial x}}{\\frac{\\partial f(x,y)}{\\partial y}}$$\n",
    "这个梯度意味着，要沿着x的方向移动$\\frac{\\partial f(x,y)}{\\partial x}$,沿y的方向移动$\\frac{\\partial f(x,y)}{\\partial y}$。其中，函数f(x,y)必须要在待计算的点上有定义并且可微。\n",
    "\n",
    "-- 梯度算子：总数只想函数值增长最快的方向(保证我们选取到最佳的移动方向，这里说的是移动方向，而不是移动量的大小)。\n",
    "\n",
    "-- 步长：即移动量的大小，记做$\\alpha$\n",
    "\n",
    "-- 向量表示，梯度上升算法迭代公式：$w:=w+\\alpha \\nabla_w f(w)$  ，该公式一直迭代执行，直到某个停止条件为止（迭代次数达到、误差达到允许范围）\n",
    "\n",
    "！！！梯度下降算法与梯度上升算法是一样的，只是公式中的加法变减法。因此，公式写成：$w:=w-\\alpha \\nabla_w f(w)$ 。梯度上升算法用来求函数的最大值，而梯度下降算法用来求函数的最小值。"
   ]
  },
  {
   "cell_type": "code",
   "execution_count": 18,
   "metadata": {},
   "outputs": [],
   "source": [
    "#Logistic回归梯度上升优化算法\n",
    "import numpy as np\n",
    "def loadDataSet():\n",
    "    dataMat=[]\n",
    "    labelMat=[]\n",
    "    fr=open('Ch05/testSet.txt')\n",
    "    for line in fr.readlines():\n",
    "        lineArr=line.strip().split()\n",
    "        dataMat.append([1,float(lineArr[0]),float(lineArr[1])])\n",
    "        labelMat.append(int(lineArr[2]))\n",
    "    return dataMat,labelMat\n",
    "\n",
    "def sigmoid(inX):\n",
    "    return 1/(1+np.exp(-inX))\n",
    "\n",
    "def gradAscent(dataMatIn,classLabels):\n",
    "    dataMatrix=np.mat(dataMatIn)\n",
    "    labelMat=np.mat(classLabels).transpose()\n",
    "    m,n=np.shape(dataMatrix)\n",
    "    alpha=0.001\n",
    "    maxCycles=500\n",
    "    weights=np.ones((n,1))\n",
    "    for k in range(maxCycles):\n",
    "        h=sigmoid(dataMatrix*weights)\n",
    "        error=(labelMat-h)\n",
    "        weights=weights+alpha*dataMatrix.transpose()*error\n",
    "    return weights"
   ]
  },
  {
   "cell_type": "code",
   "execution_count": 30,
   "metadata": {
    "scrolled": true
   },
   "outputs": [
    {
     "data": {
      "text/plain": [
       "matrix([[ 4.12414349],\n",
       "        [ 0.48007329],\n",
       "        [-0.6168482 ]])"
      ]
     },
     "execution_count": 30,
     "metadata": {},
     "output_type": "execute_result"
    }
   ],
   "source": [
    "dataArr,labelMat=loadDataSet()\n",
    "weights=gradAscent(dataArr,labelMat)\n",
    "weights"
   ]
  },
  {
   "cell_type": "code",
   "execution_count": 21,
   "metadata": {},
   "outputs": [],
   "source": [
    "#画出数据集和Logistic回归最佳拟合直线的函数\n",
    "def plotBestFit(weights):\n",
    "    import matplotlib.pyplot as plt\n",
    "    dataMat,labelMat=loadDataSet()\n",
    "    dataArr=np.array(dataMat)\n",
    "    n=np.shape(dataArr)[0]\n",
    "    xcord1=[]\n",
    "    ycord1=[]\n",
    "    xcord2=[]\n",
    "    ycord2=[]\n",
    "    for i in range(n):\n",
    "        if int(labelMat[i])==1:\n",
    "            xcord1.append(dataArr[i,1])\n",
    "            ycord1.append(dataArr[i,2])\n",
    "        else:\n",
    "            xcord2.append(dataArr[i,1])\n",
    "            ycord2.append(dataArr[i,2])\n",
    "            \n",
    "    fig=plt.figure()\n",
    "    ax=fig.add_subplot(111)\n",
    "    ax.scatter(xcord1,ycord1,s=30,c='red',marker='s')\n",
    "    ax.scatter(xcord2,ycord2,s=30,c='green')\n",
    "    x=np.arange(-3,3,0.1)\n",
    "    y=(-weights[0]-weights[1]*x)/weights[2]\n",
    "    ax.plot(x,y)\n",
    "    plt.xlabel('X1')\n",
    "    plt.ylabel('X2')\n",
    "    plt.show()"
   ]
  },
  {
   "cell_type": "code",
   "execution_count": 32,
   "metadata": {
    "scrolled": true
   },
   "outputs": [
    {
     "data": {
      "image/png": "[encoded data removed]",
      "text/plain": [
       "<Figure size 432x288 with 1 Axes>"
      ]
     },
     "metadata": {
      "needs_background": "light"
     },
     "output_type": "display_data"
    }
   ],
   "source": [
    "plotBestFit(weights.getA())"
   ]
  },
  {
   "cell_type": "code",
   "execution_count": 36,
   "metadata": {},
   "outputs": [],
   "source": [
    "#随机梯度上升算法\n",
    "def stocGradAscent0(dataMatrix,classLabels):\n",
    "    m,n=np.shape(dataMatrix)\n",
    "    alpha=0.01\n",
    "    weights=np.ones(n)\n",
    "    for i in range(m):\n",
    "        h=sigmoid(sum(dataMatrix[i]*weights))\n",
    "        error=classLabels[i]-h\n",
    "        weights=weights+alpha*error*dataMatrix[i]\n",
    "    return weights"
   ]
  },
  {
   "cell_type": "code",
   "execution_count": 37,
   "metadata": {},
   "outputs": [
    {
     "data": {
      "image/png": "[encoded data removed]",
      "text/plain": [
       "<Figure size 432x288 with 1 Axes>"
      ]
     },
     "metadata": {
      "needs_background": "light"
     },
     "output_type": "display_data"
    }
   ],
   "source": [
    "weights=stocGradAscent0(np.array(dataArr),labelMat)\n",
    "plotBestFit(weights)"
   ]
  },
  {
   "cell_type": "code",
   "execution_count": 40,
   "metadata": {},
   "outputs": [],
   "source": [
    "#改进的随机梯度上升算法\n",
    "def stocGradAscent1(dataMatrix,classLabels,numIter=150):\n",
    "    m,n=np.shape(dataMatrix)\n",
    "    weights=np.ones(n)\n",
    "    for j in range(numIter):\n",
    "        dataIndex=list(range(m))\n",
    "        for i in range(m):\n",
    "            alpha=4/(1+j+i)+0.01\n",
    "            randIndex=int(np.random.uniform(0,len(dataIndex)))\n",
    "            h=sigmoid(sum(dataMatrix[randIndex]*weights))\n",
    "            error=classLabels[randIndex]-h\n",
    "            weights=weights+alpha*error*dataMatrix[randIndex]\n",
    "            del(dataIndex[randIndex])\n",
    "    return weights"
   ]
  },
  {
   "cell_type": "code",
   "execution_count": 63,
   "metadata": {},
   "outputs": [
    {
     "data": {
      "image/png": "[encoded data removed]",
      "text/plain": [
       "<Figure size 432x288 with 1 Axes>"
      ]
     },
     "metadata": {
      "needs_background": "light"
     },
     "output_type": "display_data"
    }
   ],
   "source": [
    "weights=stocGradAscent1(np.array(dataArr),labelMat)\n",
    "plotBestFit(weights)"
   ]
  },
  {
   "cell_type": "markdown",
   "metadata": {},
   "source": [
    "#### 5.3 示例：从疝气病症预测病马的死亡率"
   ]
  },
  {
   "cell_type": "code",
   "execution_count": null,
   "metadata": {},
   "outputs": [],
   "source": []
  },
  {
   "cell_type": "code",
   "execution_count": null,
   "metadata": {},
   "outputs": [],
   "source": []
  },
  {
   "cell_type": "code",
   "execution_count": null,
   "metadata": {},
   "outputs": [],
   "source": []
  }
 ],
 "metadata": {
  "kernelspec": {
   "display_name": "Python 3",
   "language": "python",
   "name": "python3"
  },
  "language_info": {
   "codemirror_mode": {
    "name": "ipython",
    "version": 3
   },
   "file_extension": ".py",
   "mimetype": "text/x-python",
   "name": "python",
   "nbconvert_exporter": "python",
   "pygments_lexer": "ipython3",
   "version": "3.7.0"
  }
 },
 "nbformat": 4,
 "nbformat_minor": 2
}
